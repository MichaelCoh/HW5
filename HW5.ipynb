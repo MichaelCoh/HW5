{
 "cells": [
  {
   "cell_type": "code",
   "execution_count": 11,
   "id": "9fe05f9f",
   "metadata": {},
   "outputs": [],
   "source": [
    "#michael Cohen 316372499\n",
    "import json\n",
    "import csv\n",
    "import requests\n",
    "import pandas as pd\n",
    "import requests\n",
    "from bs4 import BeautifulSoup\n",
    "from urllib.request import urlopen\n",
    "api_key = \"jfnksdjbkjaskdnalskdnlaksnd\""
   ]
  },
  {
   "cell_type": "code",
   "execution_count": 38,
   "id": "a8c1015b",
   "metadata": {
    "scrolled": true
   },
   "outputs": [
    {
     "data": {
      "text/html": [
       "<div>\n",
       "<style scoped>\n",
       "    .dataframe tbody tr th:only-of-type {\n",
       "        vertical-align: middle;\n",
       "    }\n",
       "\n",
       "    .dataframe tbody tr th {\n",
       "        vertical-align: top;\n",
       "    }\n",
       "\n",
       "    .dataframe thead th {\n",
       "        text-align: right;\n",
       "    }\n",
       "</style>\n",
       "<table border=\"1\" class=\"dataframe\">\n",
       "  <thead>\n",
       "    <tr style=\"text-align: right;\">\n",
       "      <th></th>\n",
       "      <th>0</th>\n",
       "    </tr>\n",
       "  </thead>\n",
       "  <tbody>\n",
       "    <tr>\n",
       "      <th>Antalya</th>\n",
       "      <td>mediterranean-coast/antalya</td>\n",
       "    </tr>\n",
       "    <tr>\n",
       "      <th>Athens</th>\n",
       "      <td>Athens</td>\n",
       "    </tr>\n",
       "    <tr>\n",
       "      <th>Ayia-napa</th>\n",
       "      <td>the-republic-of-cyprus/Agia-napa</td>\n",
       "    </tr>\n",
       "    <tr>\n",
       "      <th>Bangkok</th>\n",
       "      <td>Bangkok</td>\n",
       "    </tr>\n",
       "    <tr>\n",
       "      <th>Barcelona</th>\n",
       "      <td>Barcelona</td>\n",
       "    </tr>\n",
       "    <tr>\n",
       "      <th>...</th>\n",
       "      <td>...</td>\n",
       "    </tr>\n",
       "    <tr>\n",
       "      <th>Venice</th>\n",
       "      <td>Venice</td>\n",
       "    </tr>\n",
       "    <tr>\n",
       "      <th>Vienna</th>\n",
       "      <td>Vienna</td>\n",
       "    </tr>\n",
       "    <tr>\n",
       "      <th>Warsaw</th>\n",
       "      <td>Warsaw</td>\n",
       "    </tr>\n",
       "    <tr>\n",
       "      <th>Zakynthos</th>\n",
       "      <td>Zakynthos</td>\n",
       "    </tr>\n",
       "    <tr>\n",
       "      <th>Zurich</th>\n",
       "      <td>Zurich</td>\n",
       "    </tr>\n",
       "  </tbody>\n",
       "</table>\n",
       "<p>76 rows × 1 columns</p>\n",
       "</div>"
      ],
      "text/plain": [
       "                                          0\n",
       "Antalya         mediterranean-coast/antalya\n",
       "Athens                               Athens\n",
       "Ayia-napa  the-republic-of-cyprus/Agia-napa\n",
       "Bangkok                             Bangkok\n",
       "Barcelona                         Barcelona\n",
       "...                                     ...\n",
       "Venice                               Venice\n",
       "Vienna                               Vienna\n",
       "Warsaw                               Warsaw\n",
       "Zakynthos                         Zakynthos\n",
       "Zurich                               Zurich\n",
       "\n",
       "[76 rows x 1 columns]"
      ]
     },
     "execution_count": 38,
     "metadata": {},
     "output_type": "execute_result"
    }
   ],
   "source": [
    "data=open(\"C:\\\\Users\\\\mcohen\\\\Downloads\\\\destinations_LP_crawler_Ex5.csv\")\n",
    "temp = 0\n",
    "cities = []\n",
    "LP_cities = []\n",
    "for line in data:\n",
    "    if temp > 0:\n",
    "        cities.append(line.split(',')[0].strip())\n",
    "        LP_cities.append(line.split(',')[1].strip())\n",
    "    temp =+1 \n",
    "cities_table = pd.DataFrame(LP_cities,cities) \n",
    "cities_table"
   ]
  },
  {
   "cell_type": "code",
   "execution_count": 95,
   "id": "82ba187a",
   "metadata": {},
   "outputs": [],
   "source": [
    "def country_find(city):\n",
    "    if city == 'Kos':\n",
    "        return 'Greece'\n",
    "    try:\n",
    "        url = \"https://maps.googleapis.com/maps/api/geocode/json?address=%s&key=%s\"%(city,api_key)\n",
    "        address = requests.get(url).json()\n",
    "        formatted_address = address['results'][0]['formatted_address'].split(',')\n",
    "        country = formatted_address[len(formatted_address) - 1]\n",
    "        if '0' in country:\n",
    "            country = formatted_address[len(formatted_address) - 2]\n",
    "        return country.strip()\n",
    "    except:\n",
    "        if city == 'Krakï¿':\n",
    "            city = 'krakow'\n",
    "            url = \"https://maps.googleapis.com/maps/api/geocode/json?address=%s&key=%s\"%(city,api_key)\n",
    "            address = requests.get(url).json()\n",
    "            formatted_address = address['results'][0]['formatted_address'].split(',')\n",
    "            country = formatted_address[len(formatted_address) - 1]\n",
    "            return country.strip()"
   ]
  },
  {
   "cell_type": "code",
   "execution_count": 96,
   "id": "673c74c4",
   "metadata": {},
   "outputs": [],
   "source": [
    "urls = []\n",
    "for city in cities:\n",
    "    urls.append(\"https://www.lonelyplanet.com/\" + str(country_find(city)) + \"/\" + cities_table[0][city])"
   ]
  },
  {
   "cell_type": "code",
   "execution_count": 97,
   "id": "4780286a",
   "metadata": {},
   "outputs": [],
   "source": [
    "info = []\n",
    "for url in urls:\n",
    "    page = requests.get(url)\n",
    "    if page.status_code == 200:\n",
    "        page_result = BeautifulSoup(page.content,'html.parser')\n",
    "        for par in page_result.find_all('div', \"readMore_content___5EuR\"):\n",
    "            info.append(par.get_text().replace('\\n',' '))  \n",
    "    else:\n",
    "        print(url)"
   ]
  },
  {
   "cell_type": "code",
   "execution_count": 98,
   "id": "34fae421",
   "metadata": {},
   "outputs": [],
   "source": [
    "country = [] \n",
    "for city in cities:\n",
    "    country.append(country_find(city))"
   ]
  },
  {
   "cell_type": "code",
   "execution_count": 111,
   "id": "72963017",
   "metadata": {},
   "outputs": [
    {
     "name": "stdout",
     "output_type": "stream",
     "text": [
      "         City      Country                                        Description\n",
      "0     Antalya       Turkey  Once seen simply as the gateway to the Turkish...\n",
      "1      Athens       Greece  With equal measures of grunge and grace, Athen...\n",
      "2   Ayia-napa       Cyprus  Endless blue-sky days and a coastline riddled ...\n",
      "3     Bangkok     Thailand  Same same, but different. This Thailish T-shir...\n",
      "4   Barcelona        Spain  Barcelona is an enchanting seaside city with b...\n",
      "..        ...          ...                                                ...\n",
      "71     Venice        Italy  Imagine the audacity of building a city of mar...\n",
      "72     Vienna      Austria  Baroque streetscapes and imperial palaces set ...\n",
      "73     Warsaw       Poland  A phoenix arisen from the ashes, Poland's capi...\n",
      "74  Zakynthos       Greece  Zakynthos, also known by its Italian name Zant...\n",
      "75     Zurich  Switzerland  Culturally vibrant, efficiently run and attrac...\n",
      "\n",
      "[76 rows x 3 columns]\n"
     ]
    }
   ],
   "source": [
    "destinations_LP =pd.DataFrame({'City':cities,'Country':country,'Description':info})\n",
    "print(destinations_LP)"
   ]
  },
  {
   "cell_type": "code",
   "execution_count": 113,
   "id": "bf3cfa03",
   "metadata": {},
   "outputs": [],
   "source": [
    "destinations_LP.to_csv('C:\\\\Users\\\\mcohen\\\\Downloads\\\\LP_destinations.csv',index = False)"
   ]
  }
 ],
 "metadata": {
  "kernelspec": {
   "display_name": "Python 3 (ipykernel)",
   "language": "python",
   "name": "python3"
  },
  "language_info": {
   "codemirror_mode": {
    "name": "ipython",
    "version": 3
   },
   "file_extension": ".py",
   "mimetype": "text/x-python",
   "name": "python",
   "nbconvert_exporter": "python",
   "pygments_lexer": "ipython3",
   "version": "3.9.7"
  }
 },
 "nbformat": 4,
 "nbformat_minor": 5
}
